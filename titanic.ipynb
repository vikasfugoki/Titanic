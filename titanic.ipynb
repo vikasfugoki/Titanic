{
 "cells": [
  {
   "cell_type": "code",
   "execution_count": 1,
   "metadata": {},
   "outputs": [],
   "source": [
    "# scikit-learn >= 0.20 is required\n",
    "import sklearn\n",
    "assert sklearn.__version__ >= \"0.20\"\n",
    "\n",
    "import numpy as np\n",
    "import pandas as pd\n",
    "\n",
    "# to plot figures\n",
    "%matplotlib inline\n",
    "import matplotlib as mpl\n",
    "import matplotlib.pyplot as plt\n",
    "mpl.rc('axes', labelsize=14)\n",
    "mpl.rc('xtick', labelsize=12)\n",
    "mpl.rc('ytick', labelsize=12)"
   ]
  },
  {
   "cell_type": "code",
   "execution_count": null,
   "metadata": {
    "execution": {
     "iopub.execute_input": "2021-06-24T16:19:43.988936Z",
     "iopub.status.busy": "2021-06-24T16:19:43.988405Z",
     "iopub.status.idle": "2021-06-24T16:19:43.999681Z",
     "shell.execute_reply": "2021-06-24T16:19:43.998509Z",
     "shell.execute_reply.started": "2021-06-24T16:19:43.988895Z"
    }
   },
   "outputs": [],
   "source": [
    "PATH = '/kaggle/input/titanic/'"
   ]
  },
  {
   "cell_type": "code",
   "execution_count": null,
   "metadata": {
    "execution": {
     "iopub.execute_input": "2021-06-24T16:19:44.00198Z",
     "iopub.status.busy": "2021-06-24T16:19:44.001593Z",
     "iopub.status.idle": "2021-06-24T16:19:44.012221Z",
     "shell.execute_reply": "2021-06-24T16:19:44.011221Z",
     "shell.execute_reply.started": "2021-06-24T16:19:44.001948Z"
    }
   },
   "outputs": [],
   "source": [
    "# function to read the input\n",
    "import pandas as pd\n",
    "\n",
    "def load_housing_data(filename, path = PATH):\n",
    "    csv_path = os.path.join(path, filename)\n",
    "    return pd.read_csv(csv_path)"
   ]
  },
  {
   "cell_type": "code",
   "execution_count": null,
   "metadata": {
    "execution": {
     "iopub.execute_input": "2021-06-24T16:19:44.013827Z",
     "iopub.status.busy": "2021-06-24T16:19:44.013558Z",
     "iopub.status.idle": "2021-06-24T16:19:44.059543Z",
     "shell.execute_reply": "2021-06-24T16:19:44.058545Z",
     "shell.execute_reply.started": "2021-06-24T16:19:44.013802Z"
    }
   },
   "outputs": [],
   "source": [
    "train_data = load_housing_data(\"train.csv\")\n",
    "test_data = load_housing_data(\"test.csv\")\n",
    "gen_data = load_housing_data(\"gender_submission.csv\")"
   ]
  },
  {
   "cell_type": "code",
   "execution_count": null,
   "metadata": {
    "execution": {
     "iopub.execute_input": "2021-06-24T16:19:44.061588Z",
     "iopub.status.busy": "2021-06-24T16:19:44.061094Z",
     "iopub.status.idle": "2021-06-24T16:19:44.067826Z",
     "shell.execute_reply": "2021-06-24T16:19:44.066729Z",
     "shell.execute_reply.started": "2021-06-24T16:19:44.061542Z"
    }
   },
   "outputs": [],
   "source": [
    "# print the shape of the training and testing dataset\n",
    "print(train_data.shape)\n",
    "print(test_data.shape)\n",
    "print(gen_data.shape)"
   ]
  },
  {
   "cell_type": "code",
   "execution_count": null,
   "metadata": {
    "execution": {
     "iopub.execute_input": "2021-06-24T16:19:44.07066Z",
     "iopub.status.busy": "2021-06-24T16:19:44.069805Z",
     "iopub.status.idle": "2021-06-24T16:19:44.110621Z",
     "shell.execute_reply": "2021-06-24T16:19:44.109492Z",
     "shell.execute_reply.started": "2021-06-24T16:19:44.070609Z"
    }
   },
   "outputs": [],
   "source": [
    "train_data.head(1)"
   ]
  },
  {
   "cell_type": "code",
   "execution_count": null,
   "metadata": {
    "execution": {
     "iopub.execute_input": "2021-06-24T16:19:44.11207Z",
     "iopub.status.busy": "2021-06-24T16:19:44.111791Z",
     "iopub.status.idle": "2021-06-24T16:19:44.126933Z",
     "shell.execute_reply": "2021-06-24T16:19:44.12586Z",
     "shell.execute_reply.started": "2021-06-24T16:19:44.112042Z"
    }
   },
   "outputs": [],
   "source": [
    "test_data.head(1)"
   ]
  },
  {
   "cell_type": "code",
   "execution_count": null,
   "metadata": {
    "execution": {
     "iopub.execute_input": "2021-06-24T16:19:44.130206Z",
     "iopub.status.busy": "2021-06-24T16:19:44.129872Z",
     "iopub.status.idle": "2021-06-24T16:19:44.13836Z",
     "shell.execute_reply": "2021-06-24T16:19:44.13727Z",
     "shell.execute_reply.started": "2021-06-24T16:19:44.130144Z"
    }
   },
   "outputs": [],
   "source": [
    "# # print the shape of the transformed train data\n",
    "# print(train_labels.shape)\n",
    "# print(train_data.shape)"
   ]
  },
  {
   "cell_type": "code",
   "execution_count": null,
   "metadata": {
    "execution": {
     "iopub.execute_input": "2021-06-24T16:19:44.140743Z",
     "iopub.status.busy": "2021-06-24T16:19:44.140102Z",
     "iopub.status.idle": "2021-06-24T16:19:44.167395Z",
     "shell.execute_reply": "2021-06-24T16:19:44.166027Z",
     "shell.execute_reply.started": "2021-06-24T16:19:44.140697Z"
    }
   },
   "outputs": [],
   "source": [
    "train_data.info()"
   ]
  },
  {
   "cell_type": "code",
   "execution_count": null,
   "metadata": {
    "execution": {
     "iopub.execute_input": "2021-06-24T16:19:44.169266Z",
     "iopub.status.busy": "2021-06-24T16:19:44.168839Z",
     "iopub.status.idle": "2021-06-24T16:19:44.178048Z",
     "shell.execute_reply": "2021-06-24T16:19:44.176996Z",
     "shell.execute_reply.started": "2021-06-24T16:19:44.16922Z"
    }
   },
   "outputs": [],
   "source": [
    "train_data[\"Pclass\"].value_counts()"
   ]
  },
  {
   "cell_type": "code",
   "execution_count": null,
   "metadata": {
    "execution": {
     "iopub.execute_input": "2021-06-24T16:19:44.179973Z",
     "iopub.status.busy": "2021-06-24T16:19:44.179569Z",
     "iopub.status.idle": "2021-06-24T16:19:44.19007Z",
     "shell.execute_reply": "2021-06-24T16:19:44.189349Z",
     "shell.execute_reply.started": "2021-06-24T16:19:44.179931Z"
    }
   },
   "outputs": [],
   "source": [
    "train_data[\"Embarked\"].value_counts()"
   ]
  },
  {
   "cell_type": "code",
   "execution_count": null,
   "metadata": {
    "execution": {
     "iopub.execute_input": "2021-06-24T16:19:44.191576Z",
     "iopub.status.busy": "2021-06-24T16:19:44.19111Z",
     "iopub.status.idle": "2021-06-24T16:19:44.20439Z",
     "shell.execute_reply": "2021-06-24T16:19:44.202996Z",
     "shell.execute_reply.started": "2021-06-24T16:19:44.191547Z"
    }
   },
   "outputs": [],
   "source": [
    "train_data[\"Parch\"].value_counts()"
   ]
  },
  {
   "cell_type": "code",
   "execution_count": null,
   "metadata": {
    "execution": {
     "iopub.execute_input": "2021-06-24T16:19:44.206028Z",
     "iopub.status.busy": "2021-06-24T16:19:44.205637Z",
     "iopub.status.idle": "2021-06-24T16:19:44.216308Z",
     "shell.execute_reply": "2021-06-24T16:19:44.215149Z",
     "shell.execute_reply.started": "2021-06-24T16:19:44.205998Z"
    }
   },
   "outputs": [],
   "source": [
    "train_data[\"SibSp\"].value_counts()"
   ]
  },
  {
   "cell_type": "code",
   "execution_count": null,
   "metadata": {
    "execution": {
     "iopub.execute_input": "2021-06-24T16:19:44.217994Z",
     "iopub.status.busy": "2021-06-24T16:19:44.217681Z",
     "iopub.status.idle": "2021-06-24T16:19:44.229114Z",
     "shell.execute_reply": "2021-06-24T16:19:44.228339Z",
     "shell.execute_reply.started": "2021-06-24T16:19:44.217964Z"
    }
   },
   "outputs": [],
   "source": [
    "train_data[\"Sex\"].value_counts()"
   ]
  },
  {
   "cell_type": "markdown",
   "metadata": {},
   "source": [
    "Note:- Cabin column has lot of empty values \n",
    "\n",
    "Note:- similarly Age has some of empty values\n",
    "\n",
    "Step:- remove the cabin column from the train data set \\\\\n",
    "\n",
    "Step:- we will add the median age in empty rows of Age column"
   ]
  },
  {
   "cell_type": "markdown",
   "metadata": {},
   "source": [
    "## Transformation of the dataset\n",
    "\n",
    "1) We will drop Cabin column \n",
    "\n",
    "2) fill the missing value with median in Age column\n",
    "\n",
    "3) One-Hot Encoding of the Sex column\n",
    "\n",
    "4) One-Hot Encoding of the Pclass column\n",
    "\n",
    "5) One-Hot Encoding of the Parch column\n",
    "\n",
    "6) One-hot Encoding of the SibSp column"
   ]
  },
  {
   "cell_type": "code",
   "execution_count": null,
   "metadata": {
    "execution": {
     "iopub.execute_input": "2021-06-24T16:19:44.230899Z",
     "iopub.status.busy": "2021-06-24T16:19:44.230432Z",
     "iopub.status.idle": "2021-06-24T16:19:44.241012Z",
     "shell.execute_reply": "2021-06-24T16:19:44.239892Z",
     "shell.execute_reply.started": "2021-06-24T16:19:44.230865Z"
    }
   },
   "outputs": [],
   "source": [
    "# remove the target label from the training set\n",
    "train_labels = train_data[\"Survived\"].copy()\n",
    "train_data = train_data.drop(\"Survived\", axis=1)"
   ]
  },
  {
   "cell_type": "code",
   "execution_count": null,
   "metadata": {
    "execution": {
     "iopub.execute_input": "2021-06-24T16:19:44.242711Z",
     "iopub.status.busy": "2021-06-24T16:19:44.242415Z",
     "iopub.status.idle": "2021-06-24T16:19:44.263306Z",
     "shell.execute_reply": "2021-06-24T16:19:44.262148Z",
     "shell.execute_reply.started": "2021-06-24T16:19:44.242675Z"
    }
   },
   "outputs": [],
   "source": [
    "from sklearn.pipeline import Pipeline\n",
    "from sklearn.preprocessing import StandardScaler\n",
    "from sklearn.preprocessing import MinMaxScaler\n",
    "from sklearn.compose import ColumnTransformer\n",
    "from sklearn.impute import SimpleImputer\n",
    "from sklearn.preprocessing import OneHotEncoder"
   ]
  },
  {
   "cell_type": "code",
   "execution_count": null,
   "metadata": {
    "execution": {
     "iopub.execute_input": "2021-06-24T16:19:44.264892Z",
     "iopub.status.busy": "2021-06-24T16:19:44.264609Z",
     "iopub.status.idle": "2021-06-24T16:19:44.270199Z",
     "shell.execute_reply": "2021-06-24T16:19:44.269301Z",
     "shell.execute_reply.started": "2021-06-24T16:19:44.264865Z"
    }
   },
   "outputs": [],
   "source": [
    "# transformer to remove the ticket column from the data\n",
    "from sklearn.base import BaseEstimator, TransformerMixin\n",
    "\n",
    "class CustomTransformer(BaseEstimator, TransformerMixin):\n",
    "    def __init__(self):\n",
    "        # do nothing\n",
    "        print(\"CustomTransformer\")\n",
    "    def fit(self, X, y=None):\n",
    "        return self\n",
    "    \n",
    "    def transform(self, X, y=None):\n",
    "        # reomve ticket, cabin and name column from the data\n",
    "        X = X[[\"PassengerId\"]]\n",
    "        \n",
    "        return X\n",
    "        "
   ]
  },
  {
   "cell_type": "code",
   "execution_count": null,
   "metadata": {
    "execution": {
     "iopub.execute_input": "2021-06-24T16:19:44.271952Z",
     "iopub.status.busy": "2021-06-24T16:19:44.271674Z",
     "iopub.status.idle": "2021-06-24T16:19:44.281042Z",
     "shell.execute_reply": "2021-06-24T16:19:44.280081Z",
     "shell.execute_reply.started": "2021-06-24T16:19:44.271925Z"
    }
   },
   "outputs": [],
   "source": [
    "# class FillNan(BaseEstimator, TransformerMixin):\n",
    "#     def __init__(self):\n",
    "#         #do nothing\n",
    "#         print(\"FillNan\")\n",
    "    \n",
    "#     def fit(self, X, y=None):\n",
    "#         return self\n",
    "    \n",
    "#     def tranform(self, X, y=None):\n",
    "#         X[\"Age\"].fillna(-1)\n",
    "#         X[\"Fare\"].fillna(-1)"
   ]
  },
  {
   "cell_type": "code",
   "execution_count": null,
   "metadata": {
    "execution": {
     "iopub.execute_input": "2021-06-24T16:19:44.282693Z",
     "iopub.status.busy": "2021-06-24T16:19:44.282416Z",
     "iopub.status.idle": "2021-06-24T16:19:44.314196Z",
     "shell.execute_reply": "2021-06-24T16:19:44.313404Z",
     "shell.execute_reply.started": "2021-06-24T16:19:44.282666Z"
    }
   },
   "outputs": [],
   "source": [
    "all_attribs = [\"PassengerId\"]\n",
    "num_attribs = [\"Age\", \"Fare\"]\n",
    "cat_atribs = [\"Pclass\", \"Sex\", \"SibSp\", \"Parch\", \"Embarked\"]\n",
    "pipeline = ColumnTransformer([\n",
    "    (\"imputer\", SimpleImputer(strategy=\"median\"), num_attribs),\n",
    "    (\"std_scalar\", StandardScaler(), [0,1]),\n",
    "    (\"custom_transformer\", CustomTransformer(), all_attribs),\n",
    "    (\"cat\", OneHotEncoder(), cat_atribs)\n",
    "    \n",
    "    \n",
    "],remainder=\"drop\")\n",
    "print(train_data.shape)\n",
    "#print(train_data.loc[888])\n",
    "train_data = pipeline.fit_transform(train_data)\n",
    "print(train_data.shape)\n",
    "# print(data_transformed[888])\n",
    "#data_transformed"
   ]
  },
  {
   "cell_type": "markdown",
   "metadata": {},
   "source": [
    "# Train Model"
   ]
  },
  {
   "cell_type": "code",
   "execution_count": null,
   "metadata": {
    "execution": {
     "iopub.execute_input": "2021-06-24T16:19:44.315841Z",
     "iopub.status.busy": "2021-06-24T16:19:44.315389Z",
     "iopub.status.idle": "2021-06-24T16:19:44.336285Z",
     "shell.execute_reply": "2021-06-24T16:19:44.335319Z",
     "shell.execute_reply.started": "2021-06-24T16:19:44.315808Z"
    }
   },
   "outputs": [],
   "source": [
    "from sklearn.linear_model import SGDClassifier\n",
    "\n",
    "sgd_cls = SGDClassifier()\n",
    "sgd_cls.fit(train_data, train_labels)"
   ]
  },
  {
   "cell_type": "code",
   "execution_count": null,
   "metadata": {
    "execution": {
     "iopub.execute_input": "2021-06-24T16:19:44.337848Z",
     "iopub.status.busy": "2021-06-24T16:19:44.337532Z",
     "iopub.status.idle": "2021-06-24T16:19:44.347237Z",
     "shell.execute_reply": "2021-06-24T16:19:44.346037Z",
     "shell.execute_reply.started": "2021-06-24T16:19:44.337819Z"
    }
   },
   "outputs": [],
   "source": [
    "train_predict = sgd_cls.predict(train_data)"
   ]
  },
  {
   "cell_type": "code",
   "execution_count": null,
   "metadata": {
    "execution": {
     "iopub.execute_input": "2021-06-24T16:19:44.349632Z",
     "iopub.status.busy": "2021-06-24T16:19:44.348841Z",
     "iopub.status.idle": "2021-06-24T16:19:44.361663Z",
     "shell.execute_reply": "2021-06-24T16:19:44.360595Z",
     "shell.execute_reply.started": "2021-06-24T16:19:44.349586Z"
    }
   },
   "outputs": [],
   "source": [
    "# confusion matrix\n",
    "from sklearn.metrics import confusion_matrix\n",
    "confusion_matrix(train_predict, train_labels)"
   ]
  },
  {
   "cell_type": "code",
   "execution_count": null,
   "metadata": {
    "execution": {
     "iopub.execute_input": "2021-06-24T16:19:44.365712Z",
     "iopub.status.busy": "2021-06-24T16:19:44.365081Z",
     "iopub.status.idle": "2021-06-24T16:19:44.436301Z",
     "shell.execute_reply": "2021-06-24T16:19:44.435114Z",
     "shell.execute_reply.started": "2021-06-24T16:19:44.365667Z"
    }
   },
   "outputs": [],
   "source": [
    "# imlpementing custom cross- validation\n",
    "from sklearn.model_selection import StratifiedKFold\n",
    "from sklearn.base import clone\n",
    "\n",
    "skfolds = StratifiedKFold(n_splits=3, random_state=42, shuffle=True)\n",
    "\n",
    "for train_index, test_index in skfolds.split(train_data, train_labels):\n",
    "    clone_clf = clone(sgd_cls)\n",
    "    train_data_folds = train_data[train_index]\n",
    "    train_labels_folds = train_labels[train_index]\n",
    "    test_data_folds = train_data[test_index]\n",
    "    test_labels_folds = train_labels[test_index]\n",
    "    \n",
    "    clone_clf.fit(train_data_folds, train_labels_folds)\n",
    "    prediction = clone_clf.predict(test_data_folds)\n",
    "#     print(type(prediction))\n",
    "#     print(type(test_labels_folds))\n",
    "    n_correct = np.sum(prediction == test_labels_folds)\n",
    "    print(\"score:\", (n_correct)/len(prediction))"
   ]
  },
  {
   "cell_type": "code",
   "execution_count": null,
   "metadata": {
    "execution": {
     "iopub.execute_input": "2021-06-24T16:19:44.438857Z",
     "iopub.status.busy": "2021-06-24T16:19:44.438227Z",
     "iopub.status.idle": "2021-06-24T16:19:44.470872Z",
     "shell.execute_reply": "2021-06-24T16:19:44.469865Z",
     "shell.execute_reply.started": "2021-06-24T16:19:44.438811Z"
    }
   },
   "outputs": [],
   "source": [
    "from sklearn.model_selection import cross_val_predict\n",
    "train_pred = cross_val_predict(sgd_cls, train_data, train_labels, cv=3)"
   ]
  },
  {
   "cell_type": "code",
   "execution_count": null,
   "metadata": {
    "execution": {
     "iopub.execute_input": "2021-06-24T16:19:44.472381Z",
     "iopub.status.busy": "2021-06-24T16:19:44.471925Z",
     "iopub.status.idle": "2021-06-24T16:19:44.480523Z",
     "shell.execute_reply": "2021-06-24T16:19:44.479659Z",
     "shell.execute_reply.started": "2021-06-24T16:19:44.472349Z"
    }
   },
   "outputs": [],
   "source": [
    "confusion_matrix(train_pred, train_labels)"
   ]
  },
  {
   "cell_type": "code",
   "execution_count": null,
   "metadata": {
    "execution": {
     "iopub.execute_input": "2021-06-24T16:19:44.482391Z",
     "iopub.status.busy": "2021-06-24T16:19:44.48176Z",
     "iopub.status.idle": "2021-06-24T16:19:45.179516Z",
     "shell.execute_reply": "2021-06-24T16:19:45.178505Z",
     "shell.execute_reply.started": "2021-06-24T16:19:44.482346Z"
    }
   },
   "outputs": [],
   "source": [
    "from sklearn.ensemble import RandomForestClassifier\n",
    "\n",
    "forest_cls = RandomForestClassifier(random_state=42)\n",
    "train_pred = cross_val_predict(forest_cls, train_data, train_labels, cv=3) "
   ]
  },
  {
   "cell_type": "code",
   "execution_count": null,
   "metadata": {
    "execution": {
     "iopub.execute_input": "2021-06-24T16:19:45.181011Z",
     "iopub.status.busy": "2021-06-24T16:19:45.180732Z",
     "iopub.status.idle": "2021-06-24T16:19:45.190244Z",
     "shell.execute_reply": "2021-06-24T16:19:45.189131Z",
     "shell.execute_reply.started": "2021-06-24T16:19:45.180985Z"
    }
   },
   "outputs": [],
   "source": [
    "confusion_matrix(train_pred, train_labels)"
   ]
  },
  {
   "cell_type": "code",
   "execution_count": null,
   "metadata": {
    "execution": {
     "iopub.execute_input": "2021-06-24T16:23:57.393891Z",
     "iopub.status.busy": "2021-06-24T16:23:57.393524Z",
     "iopub.status.idle": "2021-06-24T16:23:58.076148Z",
     "shell.execute_reply": "2021-06-24T16:23:58.074941Z",
     "shell.execute_reply.started": "2021-06-24T16:23:57.393862Z"
    }
   },
   "outputs": [],
   "source": [
    "# we will settle for the RandomForestClassifier\n",
    "from sklearn.metrics import precision_recall_curve\n",
    "\n",
    "train_pred_forest = cross_val_predict(forest_cls, train_data, train_labels, cv=3, method=\"predict_proba\")\n",
    "print(train_pred_forest)"
   ]
  },
  {
   "cell_type": "code",
   "execution_count": null,
   "metadata": {
    "execution": {
     "iopub.execute_input": "2021-06-24T16:27:33.845229Z",
     "iopub.status.busy": "2021-06-24T16:27:33.84469Z",
     "iopub.status.idle": "2021-06-24T16:27:33.849805Z",
     "shell.execute_reply": "2021-06-24T16:27:33.849108Z",
     "shell.execute_reply.started": "2021-06-24T16:27:33.845184Z"
    }
   },
   "outputs": [],
   "source": [
    "# make the score out of probability by keeping the score of one class only\n",
    "train_pred_scores = train_pred_forest[:,-1]"
   ]
  },
  {
   "cell_type": "code",
   "execution_count": null,
   "metadata": {
    "execution": {
     "iopub.execute_input": "2021-06-24T16:34:55.211254Z",
     "iopub.status.busy": "2021-06-24T16:34:55.210886Z",
     "iopub.status.idle": "2021-06-24T16:34:55.217476Z",
     "shell.execute_reply": "2021-06-24T16:34:55.216473Z",
     "shell.execute_reply.started": "2021-06-24T16:34:55.211224Z"
    }
   },
   "outputs": [],
   "source": [
    "from sklearn.metrics import roc_curve\n",
    "from sklearn.metrics import roc_auc_score\n",
    "\n",
    "fpr, tpr, thresholds = roc_curve(train_labels, train_pred_scores)"
   ]
  },
  {
   "cell_type": "code",
   "execution_count": null,
   "metadata": {
    "execution": {
     "iopub.execute_input": "2021-06-24T16:35:57.799704Z",
     "iopub.status.busy": "2021-06-24T16:35:57.79908Z",
     "iopub.status.idle": "2021-06-24T16:35:57.955541Z",
     "shell.execute_reply": "2021-06-24T16:35:57.954717Z",
     "shell.execute_reply.started": "2021-06-24T16:35:57.799653Z"
    }
   },
   "outputs": [],
   "source": [
    "def plot_roc_curve(fpr, tpr, label=None):\n",
    "    plt.plot(fpr, tpr, linewidth=2, label=label)\n",
    "    plt.plot([0, 1], [0, 1], 'k--') # dashed diagonal\n",
    "    plt.axis([0, 1, 0, 1])                                    # Not shown in the book\n",
    "    plt.xlabel('False Positive Rate (Fall-Out)', fontsize=16) # Not shown\n",
    "    plt.ylabel('True Positive Rate (Recall)', fontsize=16)    # Not shown\n",
    "    plt.grid(True)                                            # Not shown\n",
    "\n",
    "plt.figure(figsize=(8, 6))                                    # Not shown\n",
    "plot_roc_curve(fpr, tpr)\n",
    "fpr_90 = fpr[np.argmax(tpr >= recall_90_precision)]           # Not shown\n",
    "plt.plot([fpr_90, fpr_90], [0., recall_90_precision], \"r:\")   # Not shown\n",
    "plt.plot([0.0, fpr_90], [recall_90_precision, recall_90_precision], \"r:\")  # Not shown\n",
    "plt.plot([fpr_90], [recall_90_precision], \"ro\")               # Not shown\n",
    "#save_fig(\"roc_curve_plot\")                                    # Not shown\n",
    "plt.show()"
   ]
  },
  {
   "cell_type": "code",
   "execution_count": null,
   "metadata": {
    "execution": {
     "iopub.execute_input": "2021-06-24T16:45:55.938531Z",
     "iopub.status.busy": "2021-06-24T16:45:55.938022Z",
     "iopub.status.idle": "2021-06-24T16:45:56.220199Z",
     "shell.execute_reply": "2021-06-24T16:45:56.219269Z",
     "shell.execute_reply.started": "2021-06-24T16:45:55.938498Z"
    }
   },
   "outputs": [],
   "source": [
    "test_data = load_housing_data(\"test.csv\")\n",
    "test_data_transformed = pipeline.fit_transform(test_data)\n",
    "forest_cls.fit(train_data, train_labels)\n",
    "test_predict = forest_cls.predict(test_data_transformed)"
   ]
  },
  {
   "cell_type": "code",
   "execution_count": null,
   "metadata": {
    "execution": {
     "iopub.execute_input": "2021-06-24T16:49:03.478041Z",
     "iopub.status.busy": "2021-06-24T16:49:03.477701Z",
     "iopub.status.idle": "2021-06-24T16:49:03.499865Z",
     "shell.execute_reply": "2021-06-24T16:49:03.498547Z",
     "shell.execute_reply.started": "2021-06-24T16:49:03.478009Z"
    }
   },
   "outputs": [],
   "source": []
  },
  {
   "cell_type": "code",
   "execution_count": null,
   "metadata": {},
   "outputs": [],
   "source": []
  }
 ],
 "metadata": {
  "kernelspec": {
   "display_name": "Python 3",
   "language": "python",
   "name": "python3"
  },
  "language_info": {
   "codemirror_mode": {
    "name": "ipython",
    "version": 3
   },
   "file_extension": ".py",
   "mimetype": "text/x-python",
   "name": "python",
   "nbconvert_exporter": "python",
   "pygments_lexer": "ipython3",
   "version": "3.8.5"
  }
 },
 "nbformat": 4,
 "nbformat_minor": 4
}
